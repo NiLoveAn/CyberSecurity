{
  "nbformat": 4,
  "nbformat_minor": 0,
  "metadata": {
    "colab": {
      "provenance": [],
      "authorship_tag": "ABX9TyNKjw2BddTVjMdrhV9p+dpz"
    },
    "kernelspec": {
      "name": "python3",
      "display_name": "Python 3"
    },
    "language_info": {
      "name": "python"
    }
  },
  "cells": [
    {
      "cell_type": "markdown",
      "source": [
        "# Блок 2. первый проект."
      ],
      "metadata": {
        "id": "QE0KI7Ua0uQc"
      }
    },
    {
      "cell_type": "code",
      "source": [
        "print(1, type(1))\n",
        "print(1.0, type(1.0))\n",
        "print('1', type('1'))\n",
        "print(\"1\", type(\"1\"))\n",
        "print(1<2, type(1<2))\n",
        "print(1>2, type(1>2))"
      ],
      "metadata": {
        "colab": {
          "base_uri": "https://localhost:8080/"
        },
        "id": "qnUGSosJRMZ9",
        "outputId": "21e42860-6b9a-42f9-d573-22cb532cb496"
      },
      "execution_count": 3,
      "outputs": [
        {
          "output_type": "stream",
          "name": "stdout",
          "text": [
            "1 <class 'int'>\n",
            "1.0 <class 'float'>\n",
            "1 <class 'str'>\n",
            "1 <class 'str'>\n",
            "True <class 'bool'>\n",
            "False <class 'bool'>\n"
          ]
        }
      ]
    },
    {
      "cell_type": "code",
      "source": [
        "A = 1\n",
        "B = 2\n",
        "print(A+B)\n",
        "print(A-B)\n",
        "print(A*B)\n",
        "print(A/B)\n",
        "print(A**B)"
      ],
      "metadata": {
        "colab": {
          "base_uri": "https://localhost:8080/"
        },
        "id": "pEw0LKC_RMXu",
        "outputId": "2f62ed56-e686-4c7f-bc7f-3b4c92e086c3"
      },
      "execution_count": 5,
      "outputs": [
        {
          "output_type": "stream",
          "name": "stdout",
          "text": [
            "3\n",
            "-1\n",
            "2\n",
            "0.5\n",
            "1\n"
          ]
        }
      ]
    },
    {
      "cell_type": "code",
      "source": [
        "A = 1.5\n",
        "B = 2.5\n",
        "print(A+B)\n",
        "print(A-B)\n",
        "print(A*B)\n",
        "print(A/B)\n",
        "print(A**B)"
      ],
      "metadata": {
        "colab": {
          "base_uri": "https://localhost:8080/"
        },
        "id": "uSwkL86PRMUW",
        "outputId": "fae155a7-9e6d-4741-ef62-e95a102766ff"
      },
      "execution_count": 7,
      "outputs": [
        {
          "output_type": "stream",
          "name": "stdout",
          "text": [
            "4.0\n",
            "-1.0\n",
            "3.75\n",
            "0.6\n",
            "2.7556759606310752\n"
          ]
        }
      ]
    },
    {
      "cell_type": "code",
      "source": [
        "A = 10\n",
        "B = 15\n",
        "print(A/B)\n",
        "print((int)(A/B))"
      ],
      "metadata": {
        "colab": {
          "base_uri": "https://localhost:8080/"
        },
        "id": "ZtU_H59iRMMo",
        "outputId": "c03dcc31-cd8e-4474-84eb-e7478374b5dc"
      },
      "execution_count": 8,
      "outputs": [
        {
          "output_type": "stream",
          "name": "stdout",
          "text": [
            "0.6666666666666666\n",
            "0\n"
          ]
        }
      ]
    },
    {
      "cell_type": "code",
      "source": [
        "#конкатенация строк\n",
        "str1 = \"Hello\"\n",
        "str2 = \" \"\n",
        "str3 = \"World\"\n",
        "str4 = \"!\"\n",
        "print(str1+str2+str3+str4)\n",
        "print((str1+str2+str3+str4)*3)"
      ],
      "metadata": {
        "colab": {
          "base_uri": "https://localhost:8080/"
        },
        "id": "Bp_DXu-MRL4t",
        "outputId": "f1f64a5b-0404-4533-f50c-c0be548371bb"
      },
      "execution_count": 9,
      "outputs": [
        {
          "output_type": "stream",
          "name": "stdout",
          "text": [
            "Hello World!\n",
            "Hello World!Hello World!Hello World!\n"
          ]
        }
      ]
    },
    {
      "cell_type": "code",
      "source": [
        "A = 1.5\n",
        "B = 2.5\n",
        "print(A>B)\n",
        "print(A<B)\n",
        "print(A>=B)\n",
        "print(A<=B)\n",
        "print(A==B)\n",
        "print(A<B and A<=B)\n",
        "print(A<B or A>B)"
      ],
      "metadata": {
        "colab": {
          "base_uri": "https://localhost:8080/"
        },
        "id": "dWOjmdu3TSQg",
        "outputId": "d8f064c3-18f4-4bb5-a777-300051004746"
      },
      "execution_count": 10,
      "outputs": [
        {
          "output_type": "stream",
          "name": "stdout",
          "text": [
            "False\n",
            "True\n",
            "False\n",
            "True\n",
            "False\n",
            "True\n",
            "True\n"
          ]
        }
      ]
    },
    {
      "cell_type": "code",
      "source": [
        "# # - comments\n",
        "# \\t - табуляция (пробел)\n",
        "# \\n - new line\n",
        "# % - указатель на вставку"
      ],
      "metadata": {
        "id": "r7CxHND3TSFk"
      },
      "execution_count": null,
      "outputs": []
    },
    {
      "cell_type": "code",
      "source": [
        "print(\"If %1i + %2i = %3i then XAXAXA %4s\" % (2, 2, 2+2, 'xaxaax'))"
      ],
      "metadata": {
        "colab": {
          "base_uri": "https://localhost:8080/"
        },
        "id": "c70Xbf8UWgRQ",
        "outputId": "a396a88e-0420-4603-bb36-3e0f67a1fe7a"
      },
      "execution_count": 20,
      "outputs": [
        {
          "output_type": "stream",
          "name": "stdout",
          "text": [
            "If 2 +  2 =   4 then XAXAXA xaxaax\n"
          ]
        }
      ]
    },
    {
      "cell_type": "markdown",
      "source": [
        "Задания\n",
        "1. напишите код, который выводит деление 12 на 20 и тип данных ответа(int or float)\n",
        "2. напишите код, который выводит строку \"питонпитонпитон\"\n",
        "3. что получится, если мы B=2.5 умножим на (A>B) при A=1? A=3?"
      ],
      "metadata": {
        "id": "c1RW9qBVUiDS"
      }
    },
    {
      "cell_type": "code",
      "source": [
        "s = input('Введите число ')\n",
        "print(s)\n",
        "#можно и так\n",
        "s = input('введите число, оператор и число ')\n",
        "print(s + ' = ', eval(s))"
      ],
      "metadata": {
        "colab": {
          "base_uri": "https://localhost:8080/"
        },
        "id": "y8rHnsR2aKtD",
        "outputId": "62583a82-e964-499a-a046-d808c42b4b12"
      },
      "execution_count": 24,
      "outputs": [
        {
          "output_type": "stream",
          "name": "stdout",
          "text": [
            "Введите число 1\n",
            "1\n",
            "введите число, оператор и число 12+12\n",
            "12+12 =  24\n"
          ]
        }
      ]
    },
    {
      "cell_type": "code",
      "source": [
        "x = 'name = \"andrey\"\\nprint(name)'\n",
        "exec(x)\n",
        "y = 'print(2+2)'\n",
        "exec(y)"
      ],
      "metadata": {
        "colab": {
          "base_uri": "https://localhost:8080/"
        },
        "id": "wifoE_-xe7Bw",
        "outputId": "c3677629-2024-4ad7-92f3-9d44f366dc05"
      },
      "execution_count": 26,
      "outputs": [
        {
          "output_type": "stream",
          "name": "stdout",
          "text": [
            "andrey\n",
            "4\n"
          ]
        }
      ]
    },
    {
      "cell_type": "markdown",
      "source": [
        "Задания:\n",
        "1. написать скрипт, который спросит имя пользователя и ответит \"здравствуй, имя_пользователя\""
      ],
      "metadata": {
        "id": "2-VsCbfwfYAd"
      }
    },
    {
      "cell_type": "markdown",
      "source": [
        "# ***Разработка программ для реализации простейших математических моделей (бросок предмета).***"
      ],
      "metadata": {
        "id": "1u80J3WDF6SW"
      }
    },
    {
      "cell_type": "markdown",
      "source": [
        " С балкона 8-го этажа здания вертикально вниз бросили тело, которое упало на землю через 2 с и при падении имело скорость 25 м/с. Какова была начальная скорость тела?"
      ],
      "metadata": {
        "id": "phLBfNI8Dxbp"
      }
    },
    {
      "cell_type": "code",
      "source": [
        "t = 2 #время полета 2 секунды\n",
        "V = 25 #начальная скорость\n",
        "g = 9.8 #ускорение свободного падения\n",
        "V = V0 + gt"
      ],
      "metadata": {
        "id": "oLMuIy3SC_Bi"
      },
      "execution_count": null,
      "outputs": []
    }
  ]
}