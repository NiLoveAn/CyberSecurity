{
  "nbformat": 4,
  "nbformat_minor": 0,
  "metadata": {
    "colab": {
      "provenance": [],
      "authorship_tag": "ABX9TyM67o5fajxi87j4xd43gRV7"
    },
    "kernelspec": {
      "name": "python3",
      "display_name": "Python 3"
    },
    "language_info": {
      "name": "python"
    }
  },
  "cells": [
    {
      "cell_type": "markdown",
      "source": [
        "Блок 2. первый проект. Разработка программ для реализации простейших математических моделей (бросок предмета)."
      ],
      "metadata": {
        "id": "QE0KI7Ua0uQc"
      }
    },
    {
      "cell_type": "markdown",
      "source": [
        " У вас есть 2 числа - a и b. Вычислите сумму, вычитание, умножение, деление, возведение в степень."
      ],
      "metadata": {
        "id": "1u80J3WDF6SW"
      }
    }
  ]
}