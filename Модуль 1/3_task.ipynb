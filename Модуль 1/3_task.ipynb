{
  "nbformat": 4,
  "nbformat_minor": 0,
  "metadata": {
    "colab": {
      "provenance": [],
      "authorship_tag": "ABX9TyOmVSQOZX3tO+/A6FXuSkQn"
    },
    "kernelspec": {
      "name": "python3",
      "display_name": "Python 3"
    },
    "language_info": {
      "name": "python"
    }
  },
  "cells": [
    {
      "cell_type": "markdown",
      "source": [],
      "metadata": {
        "id": "gVoPPmJ0Ova0"
      }
    },
    {
      "cell_type": "markdown",
      "source": [
        "# Лекция. Логические операторы. Условные операторы"
      ],
      "metadata": {
        "id": "6QygqpCtOysG"
      }
    },
    {
      "cell_type": "code",
      "source": [
        "a = input('введите число побед игрока а: ')\n",
        "b = input('введите число побед игрока b: ')\n",
        "\n",
        "if a > b:\n",
        "  print(\"игрок а более результативен\")\n",
        "elif a == b:\n",
        "  print(\"результаты игроков равны\")\n",
        "else:\n",
        "  print(\"игрок b более результативен\")"
      ],
      "metadata": {
        "colab": {
          "base_uri": "https://localhost:8080/"
        },
        "id": "zfiRAsvIOz2T",
        "outputId": "0c948422-c8c2-44f8-fb49-ca08af34fd32"
      },
      "execution_count": 3,
      "outputs": [
        {
          "output_type": "stream",
          "name": "stdout",
          "text": [
            "введите число побед игрока а: 2\n",
            "введите число побед игрока b: 3\n",
            "игрок b более результативен\n"
          ]
        }
      ]
    },
    {
      "cell_type": "code",
      "source": [
        "a = 3\n",
        "b = 3\n",
        "print('a - min value') if a<b else (print('b - min value')) if a>b else print ('a = b')"
      ],
      "metadata": {
        "colab": {
          "base_uri": "https://localhost:8080/"
        },
        "id": "VnneYezQP2we",
        "outputId": "fe5798dc-a899-483c-aed3-f101c963b75c"
      },
      "execution_count": 5,
      "outputs": [
        {
          "output_type": "stream",
          "name": "stdout",
          "text": [
            "a = b\n"
          ]
        }
      ]
    },
    {
      "cell_type": "code",
      "source": [
        "# программа для вычисления положения предмета при вертикальном движении\n",
        "\n",
        "v0 = 2  # начальная скорость\n",
        "g = 9.8 # ускорение свободного падения\n",
        "t = 0.4 # время\n",
        "r = 1.8 # рост персонажа\n",
        "m = 1.8 # высота мишени\n",
        "\n",
        "y = v0 * t - (g * t * t)/2 + r\n",
        "print('h = ', y, '\\n', 'погрешность = ', round(abs(m-y), 3))\n",
        "\n",
        "# abs - модуль\n",
        "# round(x, n) - округление до n знаков после запятой"
      ],
      "metadata": {
        "colab": {
          "base_uri": "https://localhost:8080/"
        },
        "id": "I-_2WKLURJNi",
        "outputId": "5851fea2-8568-4723-ce67-3b0a854fa497"
      },
      "execution_count": 6,
      "outputs": [
        {
          "output_type": "stream",
          "name": "stdout",
          "text": [
            "h =  1.8159999999999998 \n",
            " погрешность =  0.016\n"
          ]
        }
      ]
    },
    {
      "cell_type": "markdown",
      "source": [
        "Задание:\n",
        "допишите предыдущий блок кода так, чтобы можно было выбрать рост персонажа с консоли, а так же добавив условие, что рост персонажа не может быть меньше 1 и больше 2"
      ],
      "metadata": {
        "id": "l84goxJLSqS0"
      }
    },
    {
      "cell_type": "markdown",
      "source": [
        "# Самостоятельная работа:\n",
        "Разработка программ с использованием условных операторов (составление игрового рейтинга).\n",
        "у вас есть 10 игроков, с рейтингом от 0 до 100. составьте список игроков по турнирной таблице (кто на каком месте стоит).\n",
        "\n",
        "Пример: игрок1 = 49, игрок 2 = 51. по турнирной сетке это выглядит так\n",
        "\n",
        "№ игрока    рейтинг игрока\n",
        "игрок2      51\n",
        "игрок1      49"
      ],
      "metadata": {
        "id": "gFYJ35nqTVDI"
      }
    }
  ]
}