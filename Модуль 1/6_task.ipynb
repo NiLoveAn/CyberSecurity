{
  "nbformat": 4,
  "nbformat_minor": 0,
  "metadata": {
    "colab": {
      "provenance": [],
      "authorship_tag": "ABX9TyPAYdDvMHmRuyOhU2BCe31a"
    },
    "kernelspec": {
      "name": "python3",
      "display_name": "Python 3"
    },
    "language_info": {
      "name": "python"
    }
  },
  "cells": [
    {
      "cell_type": "code",
      "execution_count": null,
      "metadata": {
        "id": "n3L1uPuIwc2T"
      },
      "outputs": [],
      "source": [
        "# Числа Фибоначчи\n",
        "# Рекурсия - предшествующие значения используем для последующих\n",
        "# def -\n",
        "# return -"
      ]
    },
    {
      "cell_type": "code",
      "source": [
        "def fib(n):\n",
        "  if n in (1,2):\n",
        "    return 1\n",
        "  return fib(n-1) + fib(n-2)\n",
        "\n",
        "print(fib(10))"
      ],
      "metadata": {
        "colab": {
          "base_uri": "https://localhost:8080/"
        },
        "id": "BM8UEU0GxKwC",
        "outputId": "b5c2290e-1717-4596-c81f-ff76c6e9d659"
      },
      "execution_count": null,
      "outputs": [
        {
          "output_type": "stream",
          "name": "stdout",
          "text": [
            "55\n"
          ]
        }
      ]
    },
    {
      "cell_type": "code",
      "source": [
        "fib1 = fib2 = 1\n",
        "\n",
        "n = int(input(\"Ввод элемента ряда Фибоначчи: \"))\n",
        "\n",
        "print(fib1, fib2, end=' ')\n",
        "\n",
        "for i in range(2,n):\n",
        "  fib1, fib2 = fib2, fib1 + fib2\n",
        "  print(fib2, end=' ')"
      ],
      "metadata": {
        "colab": {
          "base_uri": "https://localhost:8080/"
        },
        "id": "S8EipY2KyRVV",
        "outputId": "68f2ab4c-dca1-4463-c19c-b07771f837c6"
      },
      "execution_count": null,
      "outputs": [
        {
          "output_type": "stream",
          "name": "stdout",
          "text": [
            "Ввод: 10\n",
            "1 1 2 3 5 8 13 21 34 55 "
          ]
        }
      ]
    },
    {
      "cell_type": "code",
      "source": [
        "fib1 = fib2 = 1\n",
        "\n",
        "n = input(\"Ввод элемента ряда Фибоначчи: \")\n",
        "n = int(n) - 2\n",
        "\n",
        "while n > 0:\n",
        "  fib1, fib2 = fib2, fib1 + fib2\n",
        "  n -= 1\n",
        "  print(\"value : \", fib2)"
      ],
      "metadata": {
        "colab": {
          "base_uri": "https://localhost:8080/"
        },
        "id": "IK2PSJw6y1ZI",
        "outputId": "6e29ad57-9273-41af-c970-59c549f21e85"
      },
      "execution_count": null,
      "outputs": [
        {
          "output_type": "stream",
          "name": "stdout",
          "text": [
            "Ввод элемента ряда Фибоначчи: 10\n",
            "value :  2\n",
            "value :  3\n",
            "value :  5\n",
            "value :  8\n",
            "value :  13\n",
            "value :  21\n",
            "value :  34\n",
            "value :  55\n"
          ]
        }
      ]
    },
    {
      "cell_type": "code",
      "source": [
        "a = int(input(\"Ввод элемента ряда Фибоначчи: \"))\n",
        "\n",
        "def fib(n):\n",
        "  a, b = 1, 1\n",
        "  for _ in range(n):    # _ тк нам не нужен итератор, поэтому можно и так оставить, он просто будет идти пока n не закончится (не станет 0)\n",
        "    yield a   # yield запоминает последнее значение а\n",
        "    a, b = b, a + b\n",
        "\n",
        "print(list(fib(a))) # * распакует лист"
      ],
      "metadata": {
        "colab": {
          "base_uri": "https://localhost:8080/"
        },
        "id": "GUIoy7f9zm6-",
        "outputId": "251c7520-dee3-43f6-d4f0-0209d326f885"
      },
      "execution_count": null,
      "outputs": [
        {
          "output_type": "stream",
          "name": "stdout",
          "text": [
            "Ввод элемента ряда Фибоначчи: 10\n",
            "[1, 1, 2, 3, 5, 8, 13, 21, 34, 55]\n"
          ]
        }
      ]
    },
    {
      "cell_type": "markdown",
      "source": [
        "# Самостоятельная работа:"
      ],
      "metadata": {
        "id": "DPteAO272IOR"
      }
    },
    {
      "cell_type": "markdown",
      "source": [
        "Написание приложений с использованием функций (числа Фибоначчи в гейм-дизайне).\n",
        "Нам важны 2 показателя - уровень игрока и кол-во убитых монстров.\n",
        "Если уровень игрока ниже 7, то к числу Фибоначчи мы прибавляем 1, если выше или равна 7 то прибавляем 0.\n",
        "\n",
        "Пример вывода:\n",
        "уровень игрока 1 -> убить 2 монстра, чтобы получить 2 уровень\n",
        "Уровень игрока 2 -> убить 3 монстра, чтобы получить 3 уровень\n",
        "уровень игрока 3 -> убить 4 монстра, чтобы получить 4 уровень\n",
        "уровень игрока 4 -> убить 6 монстров, чтобы получить 5 уровень\n",
        "уровень игрока 5 -> убить 9 монстров, чтобы получить 6 уровень\n",
        "уровень игрока 6 -> убить 13 монстров, чтобы получить 7 уровень\n",
        "уровень игрока 7 -> убить 21 монстра, чтобы получить 8 уровень"
      ],
      "metadata": {
        "id": "WEp4TUGH2LCD"
      }
    }
  ]
}