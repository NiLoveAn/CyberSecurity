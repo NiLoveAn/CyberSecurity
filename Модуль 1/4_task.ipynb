{
  "nbformat": 4,
  "nbformat_minor": 0,
  "metadata": {
    "colab": {
      "provenance": [],
      "collapsed_sections": [
        "ArgYA05uepJH",
        "Mkjv61FOemrx",
        "oGdbfWRoeshM"
      ],
      "authorship_tag": "ABX9TyOfIM9gQq4Yk3TvI6NBnlZb"
    },
    "kernelspec": {
      "name": "python3",
      "display_name": "Python 3"
    },
    "language_info": {
      "name": "python"
    }
  },
  "cells": [
    {
      "cell_type": "markdown",
      "source": [
        "# LIST"
      ],
      "metadata": {
        "id": "ArgYA05uepJH"
      }
    },
    {
      "cell_type": "code",
      "execution_count": null,
      "metadata": {
        "colab": {
          "base_uri": "https://localhost:8080/"
        },
        "id": "3ngGf-aAVJY0",
        "outputId": "48cb2632-9b22-463d-87cd-7b4833aa0e95"
      },
      "outputs": [
        {
          "output_type": "stream",
          "name": "stdout",
          "text": [
            "[1, 2, 3]\n",
            "['cat', 123, True]\n",
            "[1, 2, [3, 4]]\n",
            "2\n",
            "['cat', 123]\n"
          ]
        }
      ],
      "source": [
        "# list\n",
        "a = [1, 2, 3]\n",
        "print(a)\n",
        "b = ['cat', 123, True]\n",
        "print(b)\n",
        "c = [1, 2, [3, 4]]\n",
        "print(c)"
      ]
    },
    {
      "cell_type": "code",
      "source": [
        "c = [1, 2, 3, 4, 5, 6]\n",
        "\n",
        "# что можно делать со списком\n",
        "print(c[1]) #индексация\n",
        "print(c[0:2]) #вывести элементы от 0 до 2 в листе b\n",
        "print(c[0:6:2]) #вывести элементы от 1 до 6 с промежутком 2\n",
        "\n",
        "# так же можно изменять элементы в списках\n",
        "c[1] = 4\n",
        "print('new ', c)"
      ],
      "metadata": {
        "colab": {
          "base_uri": "https://localhost:8080/"
        },
        "id": "eEZmYHxIYKCn",
        "outputId": "1d7739db-d688-46ca-e5b4-4f056c6108ac"
      },
      "execution_count": null,
      "outputs": [
        {
          "output_type": "stream",
          "name": "stdout",
          "text": [
            "2\n",
            "[1, 2]\n",
            "[1, 3, 5]\n",
            "new  [1, 4, 3, 4, 5, 6]\n"
          ]
        }
      ]
    },
    {
      "cell_type": "code",
      "source": [
        "a = [1, 2]\n",
        "b = a\n",
        "a[0] = 5\n",
        "\n",
        "print(a)\n",
        "print(b)\n",
        "# Проблема в том, что a — это ссылка на область в памяти компьютера, где хранится первый элемент списка, а также на следующий его элемент.\n",
        "# когда мы присвоили списку b список a, то на самом деле присвоили ему ссылку на первый элемент — по сути, сделав их одним списком."
      ],
      "metadata": {
        "colab": {
          "base_uri": "https://localhost:8080/"
        },
        "id": "aUGfIciXYLIc",
        "outputId": "1985b4ce-282c-4c31-96b2-7688751ef67e"
      },
      "execution_count": null,
      "outputs": [
        {
          "output_type": "stream",
          "name": "stdout",
          "text": [
            "[5, 2]\n",
            "[5, 2]\n"
          ]
        }
      ]
    },
    {
      "cell_type": "code",
      "source": [
        "a = [1, 2]\n",
        "b = [3, 4]\n",
        "с = a + b\n",
        "\n",
        "print(с)"
      ],
      "metadata": {
        "colab": {
          "base_uri": "https://localhost:8080/"
        },
        "id": "h59XdQQKYLA2",
        "outputId": "2a06bd8d-ba4a-471d-e988-186d5279cdc0"
      },
      "execution_count": null,
      "outputs": [
        {
          "output_type": "stream",
          "name": "stdout",
          "text": [
            "[1, 2, 3, 4]\n"
          ]
        }
      ]
    },
    {
      "cell_type": "code",
      "source": [
        "a = [1, 2, 3]\n",
        "d1, d2, d3 = a\n",
        "\n",
        "print(d1)\n",
        "print(d2)\n",
        "print(d3)"
      ],
      "metadata": {
        "colab": {
          "base_uri": "https://localhost:8080/"
        },
        "id": "abAYgyHqZNTV",
        "outputId": "cb2f38e4-a2ac-4518-8556-3bccb2e2604f"
      },
      "execution_count": null,
      "outputs": [
        {
          "output_type": "stream",
          "name": "stdout",
          "text": [
            "1\n",
            "2\n",
            "3\n"
          ]
        }
      ]
    },
    {
      "cell_type": "code",
      "source": [
        "a = [1, 2, 3]\n",
        "b = [1, 2, 3]\n",
        "print(a == b)"
      ],
      "metadata": {
        "colab": {
          "base_uri": "https://localhost:8080/"
        },
        "id": "C3cntlnzZgul",
        "outputId": "a10b3dba-be4d-4024-cdbe-a760d432e82c"
      },
      "execution_count": null,
      "outputs": [
        {
          "output_type": "stream",
          "name": "stdout",
          "text": [
            "True\n"
          ]
        }
      ]
    },
    {
      "cell_type": "code",
      "source": [
        "# некоторые встроенные функции для списков\n",
        "a = [8, 1, 3, 2]\n",
        "print('len ', len(a))\n",
        "print('sorted ', sorted(a))\n",
        "print('min ', min(a))\n",
        "print('max ', max(a))\n",
        "\n",
        "a.append(4) #добавление одного значения\n",
        "print('append ', a)\n",
        "\n",
        "a.extend([4, 5]) #добавление нескольких значений\n",
        "print('extend ', a)\n",
        "\n",
        "a.insert(0, 4) #добавление элемента по индексу\n",
        "print('insert ', a)\n",
        "\n",
        "a.remove(1) #Метод удаляет только первое вхождение элемента. Остальные остаются нетронутыми.\n",
        "print('remove ', a)\n",
        "\n",
        "# a.remove(10)\n",
        "# print(a) #ERROR\n",
        "\n",
        "print('index ', a.index(2)) #Возвращает индекс элемента списка\n",
        "\n",
        "print('pop ', a.pop()) #Удаляет элемент по индексу и возвращает его как результат\n",
        "print('pop_list ', a)\n",
        "\n",
        "a.sort()\n",
        "print('sort ', a)\n",
        "\n",
        "a.sort(reverse=True)\n",
        "print('sort_reverse ', a)\n",
        "\n",
        "a.clear()\n",
        "print('clear ', a)"
      ],
      "metadata": {
        "colab": {
          "base_uri": "https://localhost:8080/"
        },
        "id": "raVmP9qgZuyo",
        "outputId": "aa030af0-2274-4743-e20c-2881ae4712c5"
      },
      "execution_count": null,
      "outputs": [
        {
          "output_type": "stream",
          "name": "stdout",
          "text": [
            "len  4\n",
            "sorted  [1, 2, 3, 8]\n",
            "min  1\n",
            "max  8\n",
            "append  [8, 1, 3, 2, 4]\n",
            "extend  [8, 1, 3, 2, 4, 4, 5]\n",
            "insert  [4, 8, 1, 3, 2, 4, 4, 5]\n",
            "remove  [4, 8, 3, 2, 4, 4, 5]\n",
            "index  3\n",
            "pop  5\n",
            "pop_list  [4, 8, 3, 2, 4, 4]\n",
            "sort  [2, 3, 4, 4, 4, 8]\n",
            "sort_reverse  [8, 4, 4, 4, 3, 2]\n",
            "clear  []\n"
          ]
        }
      ]
    },
    {
      "cell_type": "code",
      "source": [
        "# string working\n",
        "a = ['cat', 'dog', 'bat']\n",
        "a.extend('mouse')\n",
        "print(a)"
      ],
      "metadata": {
        "colab": {
          "base_uri": "https://localhost:8080/"
        },
        "id": "rom2PRdmab8_",
        "outputId": "45244b4a-f8e4-4059-e798-ae2b3ec49ab9"
      },
      "execution_count": null,
      "outputs": [
        {
          "output_type": "stream",
          "name": "stdout",
          "text": [
            "['cat', 'dog', 'bat', 'm', 'o', 'u', 's', 'e']\n"
          ]
        }
      ]
    },
    {
      "cell_type": "code",
      "source": [
        "# цикл for\n",
        "# цикл while"
      ],
      "metadata": {
        "id": "4Ulz2hlHYK7q"
      },
      "execution_count": null,
      "outputs": []
    },
    {
      "cell_type": "markdown",
      "source": [
        "# FOR"
      ],
      "metadata": {
        "id": "Mkjv61FOemrx"
      }
    },
    {
      "cell_type": "code",
      "source": [
        "#for\n",
        "animals = ['cat', 'dog', 'horse']\n",
        "for animal in animals:\n",
        "  print(animal)"
      ],
      "metadata": {
        "colab": {
          "base_uri": "https://localhost:8080/"
        },
        "id": "9h6vk6MmZTsM",
        "outputId": "afe446aa-3846-42db-fd1c-239063c7ace3"
      },
      "execution_count": null,
      "outputs": [
        {
          "output_type": "stream",
          "name": "stdout",
          "text": [
            "cat\n",
            "dog\n",
            "horse\n"
          ]
        }
      ]
    },
    {
      "cell_type": "code",
      "source": [
        "for number in range(5):\n",
        "    print(number)\n",
        "\n",
        "print('\\n')\n",
        "\n",
        "for number in [0, 1, 2, 3, 4]:\n",
        "    print(number)\n",
        "\n",
        "print('\\n')\n",
        "\n",
        "for number in range(10):\n",
        "    if number % 2 == 0:\n",
        "        print(number)"
      ],
      "metadata": {
        "colab": {
          "base_uri": "https://localhost:8080/"
        },
        "id": "jTRRZLkHe7cy",
        "outputId": "493f319d-3b8e-4b05-b5bc-d2f78a5998c7"
      },
      "execution_count": null,
      "outputs": [
        {
          "output_type": "stream",
          "name": "stdout",
          "text": [
            "0\n",
            "1\n",
            "2\n",
            "3\n",
            "4\n",
            "\n",
            "\n",
            "0\n",
            "1\n",
            "2\n",
            "3\n",
            "4\n",
            "\n",
            "\n",
            "0\n",
            "2\n",
            "4\n",
            "6\n",
            "8\n"
          ]
        }
      ]
    },
    {
      "cell_type": "markdown",
      "source": [
        "# WHILE"
      ],
      "metadata": {
        "id": "oGdbfWRoeshM"
      }
    },
    {
      "cell_type": "code",
      "source": [
        "#while\n",
        "animals = ['cat', 'dog', 'horse']\n",
        "i = 0\n",
        "while i < len(animals):\n",
        "  print(animals[i])\n",
        "  i += 1"
      ],
      "metadata": {
        "colab": {
          "base_uri": "https://localhost:8080/"
        },
        "id": "GAYgfB9IZTpg",
        "outputId": "b403781a-3f2b-48be-f760-e3958ce25607"
      },
      "execution_count": null,
      "outputs": [
        {
          "output_type": "stream",
          "name": "stdout",
          "text": [
            "cat\n",
            "dog\n",
            "horse\n"
          ]
        }
      ]
    },
    {
      "cell_type": "code",
      "source": [
        "a = 1\n",
        "\n",
        "while a < 10:\n",
        "    print('Цикл выполнился', a, 'раз(а)')\n",
        "    a = a+1\n",
        "print('Цикл окончен')"
      ],
      "metadata": {
        "colab": {
          "base_uri": "https://localhost:8080/"
        },
        "id": "GHJ8t4RvfWpG",
        "outputId": "61711a0f-2997-40d6-9c5f-c6e0d74de04f"
      },
      "execution_count": null,
      "outputs": [
        {
          "output_type": "stream",
          "name": "stdout",
          "text": [
            "Цикл выполнился 1 раз(а)\n",
            "Цикл выполнился 2 раз(а)\n",
            "Цикл выполнился 3 раз(а)\n",
            "Цикл выполнился 4 раз(а)\n",
            "Цикл выполнился 5 раз(а)\n",
            "Цикл выполнился 6 раз(а)\n",
            "Цикл выполнился 7 раз(а)\n",
            "Цикл выполнился 8 раз(а)\n",
            "Цикл выполнился 9 раз(а)\n",
            "Цикл окончен\n"
          ]
        }
      ]
    },
    {
      "cell_type": "code",
      "source": [
        "a = 1\n",
        "\n",
        "while a < 5:\n",
        "   print('условие верно')\n",
        "   a = a + 1\n",
        "else:\n",
        "   print('условие неверно')"
      ],
      "metadata": {
        "colab": {
          "base_uri": "https://localhost:8080/"
        },
        "id": "IUafLL_Sfhjq",
        "outputId": "60c17f5e-bcfe-4553-ab49-0d9ba3863f47"
      },
      "execution_count": null,
      "outputs": [
        {
          "output_type": "stream",
          "name": "stdout",
          "text": [
            "условие верно\n",
            "условие верно\n",
            "условие верно\n",
            "условие верно\n",
            "условие неверно\n"
          ]
        }
      ]
    },
    {
      "cell_type": "code",
      "source": [
        "a = 1\n",
        "while a < 5:\n",
        "    a += 1\n",
        "    if a == 5:\n",
        "\t    break\n",
        "    print(a)"
      ],
      "metadata": {
        "colab": {
          "base_uri": "https://localhost:8080/"
        },
        "id": "FnFmKExDfnyy",
        "outputId": "fb2fc7ac-e508-4454-fe30-f77fb1d60c52"
      },
      "execution_count": null,
      "outputs": [
        {
          "output_type": "stream",
          "name": "stdout",
          "text": [
            "2\n",
            "3\n",
            "4\n"
          ]
        }
      ]
    },
    {
      "cell_type": "code",
      "source": [
        "a = 1\n",
        "\n",
        "while a < 5:\n",
        "    a += 1\n",
        "    if a == 3:\n",
        "\t    continue\n",
        "    print(a)"
      ],
      "metadata": {
        "colab": {
          "base_uri": "https://localhost:8080/"
        },
        "id": "Is0TkA-0f7rj",
        "outputId": "761c1148-e46d-4083-f9e3-003d8c1d1785"
      },
      "execution_count": null,
      "outputs": [
        {
          "output_type": "stream",
          "name": "stdout",
          "text": [
            "2\n",
            "4\n",
            "5\n"
          ]
        }
      ]
    },
    {
      "cell_type": "markdown",
      "source": [
        "# Задание:\n",
        "1. Пользователь вводит с клавиатуры две границы диапазона и число. Если число не попадает в диапазон, программа просит пользователя повторно ввести число, и так до тех пор, пока он не введет число правильно. Программа отображает все числа диапазона, выделяя число восклицательными знаками. Например: 1 2 3 !4! 5 6 7. Уточнение: вывод должен быть в виде списка"
      ],
      "metadata": {
        "id": "_r_JVHNWgIPW"
      }
    },
    {
      "cell_type": "code",
      "source": [
        "#####"
      ],
      "metadata": {
        "colab": {
          "base_uri": "https://localhost:8080/"
        },
        "id": "YNM_Yn3_rbO1",
        "outputId": "c03d5a17-e8ad-4e9c-b95b-d0129b9d2f2a"
      },
      "execution_count": null,
      "outputs": [
        {
          "output_type": "stream",
          "name": "stdout",
          "text": [
            "['2', '3', '!4!', '5', '6', '7']\n"
          ]
        }
      ]
    },
    {
      "cell_type": "markdown",
      "source": [
        "# Самостоятельная работа:\n",
        "Разработка программ с использованием циклов (моделирование полёта брошенного предмета по времени и по точности).\n",
        "доработать код ниже разделив время полета на 6 частей вместо 4 и показать вывод изменения высоты (разности между текущей высотой и высотой в предшествующий момент времени)\n",
        "Пример:\n",
        "высота в 0 сек разность 0.0 м.\n",
        "высота в 0.13 сек разность 0.56 м.\n",
        "высота в 0.25 сек разность 0.4 м.\n",
        "высота в 0.51 сек разность 0.32 м.\n",
        "высота в 0.76 сек разность -0.32 м.\n",
        "высота в 0.89 сек разность -0.4 м.\n",
        "высота в 1.02 сек разность -0.56 м."
      ],
      "metadata": {
        "id": "lz4Gm-rxcCsU"
      }
    },
    {
      "cell_type": "code",
      "source": [
        "# Программа для моделирования вертикального положения метаемого снаряда\n",
        "\n",
        "v0 = 5 # начальная скорость\n",
        "g = 9.80665 # ускорение свободного падения\n",
        "r = 1.8 # рост персонажа\n",
        "mishen = 1.8 # высота мишени\n",
        "\n",
        "tmax = 2*v0/g\n",
        "\n",
        "t = [0, 1/4*tmax, 1/2*tmax, 3/4*tmax, tmax] # список моментов времени\n",
        "\n",
        "n = len(t)\n",
        "\n",
        "spisok = [] # создание пустого списка\n",
        "\n",
        "for i in t:\n",
        "  visota = round(v0*i - 1/2*g*i**2 + r, 3)\n",
        "  spisok.append((round(i,2), visota)) # добавление элемента в список\n",
        "\n",
        "for vrem, vis in spisok:\n",
        "  print(f\"высота в {vrem} сек. = {vis} м.\")\n",
        "\n",
        "# print(\"последний элемент списка \", spisok[-1])\n",
        "# print(\"элемент списка начиная с третьего до предпоследнего \", spisok[2:-1])\n",
        "# print(\"последний элемент кортежа первого элемента списка \", spisok[0][-1])"
      ],
      "metadata": {
        "colab": {
          "base_uri": "https://localhost:8080/"
        },
        "id": "UoEnBii8dA_P",
        "outputId": "1f638b47-36f3-40e6-a16a-07af768d9dda"
      },
      "execution_count": null,
      "outputs": [
        {
          "output_type": "stream",
          "name": "stdout",
          "text": [
            "высота в 0 сек. = 1.8 м.\n",
            "высота в 0.25 сек. = 2.756 м.\n",
            "высота в 0.51 сек. = 3.075 м.\n",
            "высота в 0.76 сек. = 2.756 м.\n",
            "высота в 1.02 сек. = 1.8 м.\n",
            "последний элемент списка  (1.02, 1.8)\n",
            "элемент списка начиная с третьего до предпоследнего  [(0.51, 3.075), (0.76, 2.756)]\n",
            "последний элемент кортежа первого элемента списка  1.8\n"
          ]
        }
      ]
    },
    {
      "cell_type": "code",
      "source": [
        "#напишите код, который будет выводить такой результат :)"
      ],
      "metadata": {
        "colab": {
          "base_uri": "https://localhost:8080/"
        },
        "id": "zoBwOAxdfW97",
        "outputId": "42979428-f3d7-4925-a505-abf4dd28c3e5"
      },
      "execution_count": null,
      "outputs": [
        {
          "output_type": "stream",
          "name": "stdout",
          "text": [
            "[(0, 1.8), (0.17, 2.508), (0.34, 2.933), (0.51, 3.075), (0.68, 2.933), (0.85, 2.508), (1.02, 1.8)]\n",
            "высота в 0 сек. разность 0.0 м.\n",
            "высота в 0.17 сек. разность 0.708 м.\n",
            "высота в 0.34 сек. разность 0.425 м.\n",
            "высота в 0.51 сек. разность 0.142 м.\n",
            "высота в 0.68 сек. разность -0.142 м.\n",
            "высота в 0.85 сек. разность -0.425 м.\n",
            "высота в 1.02 сек. разность -0.708 м.\n"
          ]
        }
      ]
    }
  ]
}