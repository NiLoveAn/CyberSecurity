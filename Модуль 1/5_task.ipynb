{
  "nbformat": 4,
  "nbformat_minor": 0,
  "metadata": {
    "colab": {
      "provenance": [],
      "collapsed_sections": [
        "WU5qqxbXoNIO",
        "1-RxQP7joPeh",
        "YwXr4nK3oSPc",
        "P4_pUWwnoUbD",
        "T-0OQR4ArEKQ",
        "f9RbFZkxtDZM"
      ],
      "authorship_tag": "ABX9TyO+azZlFuicO2K3LS9Fk8D0",
      "include_colab_link": true
    },
    "kernelspec": {
      "name": "python3",
      "display_name": "Python 3"
    },
    "language_info": {
      "name": "python"
    }
  },
  "cells": [
    {
      "cell_type": "markdown",
      "metadata": {
        "id": "view-in-github",
        "colab_type": "text"
      },
      "source": [
        "<a href=\"https://colab.research.google.com/github/NiLoveAn/CyberSecurity/blob/main/%D0%9C%D0%BE%D0%B4%D1%83%D0%BB%D1%8C%201/5_task.ipynb\" target=\"_parent\"><img src=\"https://colab.research.google.com/assets/colab-badge.svg\" alt=\"Open In Colab\"/></a>"
      ]
    },
    {
      "cell_type": "markdown",
      "source": [
        "# LIST"
      ],
      "metadata": {
        "id": "WU5qqxbXoNIO"
      }
    },
    {
      "cell_type": "code",
      "execution_count": null,
      "metadata": {
        "colab": {
          "base_uri": "https://localhost:8080/"
        },
        "id": "nnnvGenkkc-x",
        "outputId": "26376535-8e0d-4a39-e2a2-ec2180a117d5"
      },
      "outputs": [
        {
          "output_type": "stream",
          "name": "stdout",
          "text": [
            "['mango', 'strawberry', 'orange', 'apple', 'banana']\n"
          ]
        }
      ],
      "source": [
        "# list\n",
        "# Список является изменяемым\n",
        "# Список - это упорядоченная коллекция элементов\n",
        "# Элемент в списке может быть изменен или заменен\n",
        "# Список может хранить более одного типа данных\n",
        "\n",
        "list = [\"mango\", \"strawberry\", \"orange\", \"apple\", \"banana\"]\n",
        "print(list)"
      ]
    },
    {
      "cell_type": "markdown",
      "source": [
        "# Что можно делать со списками (напомню)\n",
        "\n",
        ".append() метод для добавления элементов в список;\n",
        "\n",
        ".insert() для добавления элементов в конкретное место в списке;\n",
        "\n",
        ".index() для получения индекса элемента;\n",
        "\n",
        ".clear() для очистки списка;\n",
        "\n",
        ".remove() для удаления элемента списка;\n",
        "\n",
        ".reverse() чтобы развернуть список в обратном порядке;\n",
        "\n",
        ".count() для подсчёта количества элементов в списке;\n",
        "\n",
        "sum() для сложения элементов списка;\n",
        "\n",
        "min() показывает элемент с самым низким значением в списке;\n",
        "\n",
        "max() элемент с самым высоким значением в списке."
      ],
      "metadata": {
        "id": "-oJqvxsmo0Ri"
      }
    },
    {
      "cell_type": "markdown",
      "source": [
        "# ARRAY"
      ],
      "metadata": {
        "id": "1-RxQP7joPeh"
      }
    },
    {
      "cell_type": "code",
      "source": [
        "# array\n",
        "# Массив является изменяемым\n",
        "# Массив - это упорядоченная коллекция элементов\n",
        "# Элемент в массиве может быть изменен или заменен\n",
        "# Массив может хранить только похожие типы данных\n",
        "\n",
        "import array as arr\n",
        "\n",
        "a = arr.array('i', [1, 2, 3])\n",
        "b = arr.array('d', [2.5, 3.2, 3.3])\n",
        "\n",
        "for i in range (0, 3):\n",
        "    print (b[i])\n",
        "for i in range (0, 3):\n",
        "    print (a[i])"
      ],
      "metadata": {
        "colab": {
          "base_uri": "https://localhost:8080/"
        },
        "id": "sDkfIpL4lAxN",
        "outputId": "9446bc3c-369d-4900-c2fd-844b99e47418"
      },
      "execution_count": null,
      "outputs": [
        {
          "output_type": "stream",
          "name": "stdout",
          "text": [
            "2.5\n",
            "3.2\n",
            "3.3\n",
            "1\n",
            "2\n",
            "3\n"
          ]
        }
      ]
    },
    {
      "cell_type": "markdown",
      "source": [
        "# TUPLE"
      ],
      "metadata": {
        "id": "YwXr4nK3oSPc"
      }
    },
    {
      "cell_type": "code",
      "source": [
        "# tuple\n",
        "# кортежи записываются в круглые скобки\n",
        "# Кортеж неизменяем\n",
        "# Кортеж - это упорядоченная коллекция элементов\n",
        "# Элемент в кортеже не может быть изменен или заменен\n",
        "# Кортеж может хранить более одного типа данных\n",
        "\n",
        "tuple = (\"orange\",\"apple\",\"banana\")\n",
        "print(tuple)"
      ],
      "metadata": {
        "colab": {
          "base_uri": "https://localhost:8080/"
        },
        "id": "t0TIoUuelGpT",
        "outputId": "f89adc64-2cf9-477f-9a34-30b819bfd8a0"
      },
      "execution_count": null,
      "outputs": [
        {
          "output_type": "stream",
          "name": "stdout",
          "text": [
            "('orange', 'apple', 'banana')\n"
          ]
        }
      ]
    },
    {
      "cell_type": "markdown",
      "source": [
        "# DICT"
      ],
      "metadata": {
        "id": "P4_pUWwnoUbD"
      }
    },
    {
      "cell_type": "code",
      "source": [
        "# dict\n",
        "# key : value\n",
        "\n",
        "ab = {  'Swaroop'   : 12,\n",
        "        'Larry'     : 14,\n",
        "        'Matsumoto' : 15,\n",
        "        'Spammer'   : 20\n",
        "        }\n",
        "\n",
        "\n",
        "print('\\nВ книге {0} контакта\\n'.format(len(ab)))\n",
        "\n",
        "for name, years in ab.items():\n",
        "    print('Контакт {0} с возрастом {1}'.format(name, years))\n",
        "\n",
        "# Добавление пары ключ-значение\n",
        "ab['Guido'] = 21\n",
        "\n",
        "if 'Guido' in ab:\n",
        "    print(\"\\nвозраст Guido:\", ab['Guido'])"
      ],
      "metadata": {
        "colab": {
          "base_uri": "https://localhost:8080/"
        },
        "id": "rwPI3wnYnwEZ",
        "outputId": "29b155c0-f5a6-42e3-dcd5-73fed4b1413b"
      },
      "execution_count": null,
      "outputs": [
        {
          "output_type": "stream",
          "name": "stdout",
          "text": [
            "\n",
            "В книге 4 контакта\n",
            "\n",
            "Контакт Swaroop с возрастом 12\n",
            "Контакт Larry с возрастом 14\n",
            "Контакт Matsumoto с возрастом 15\n",
            "Контакт Spammer с возрастом 20\n",
            "\n",
            "возраст Guido: 21\n",
            "20\n"
          ]
        }
      ]
    },
    {
      "cell_type": "markdown",
      "source": [
        "# Вот некоторые из методов и функций словаря:\n",
        "\n",
        ".keys() — используется для вывода ключей словаря;\n",
        "\n",
        ".items() — используется для создания кортежей с ключами и значениями;\n",
        "\n",
        ".get() — метод для получения значения по ключу;\n",
        "\n",
        ".clear() — очистить словарь;\n",
        "\n",
        ".copy() — скопировать весь словарь;\n",
        "\n",
        "len() — получить длину словаря;\n",
        "\n",
        "type() — узнать тип;\n",
        "\n",
        "min() — получить ключ с минимальным значением;\n",
        "\n",
        "max() — получить ключ с максимальным значением."
      ],
      "metadata": {
        "id": "eSkDUgeIpTOp"
      }
    },
    {
      "cell_type": "markdown",
      "source": [
        "# Задания"
      ],
      "metadata": {
        "id": "T-0OQR4ArEKQ"
      }
    },
    {
      "cell_type": "markdown",
      "source": [
        "Напишите код, который может вывести только последний элемент списка"
      ],
      "metadata": {
        "id": "6SGibHYyrMEd"
      }
    },
    {
      "cell_type": "code",
      "source": [
        "sample = ['abc', \"xyz\", 111, 333]\n",
        "\n",
        "# output - 333"
      ],
      "metadata": {
        "id": "1shcg9T8rLo1"
      },
      "execution_count": null,
      "outputs": []
    },
    {
      "cell_type": "markdown",
      "source": [
        "напишите код, который позволяет вывести расширенный список"
      ],
      "metadata": {
        "id": "TaWxoCOIrMix"
      }
    },
    {
      "cell_type": "code",
      "source": [
        "sample = [\"green\", \"yellow\", \"white\"]\n",
        "\n",
        "#output - [\"red\", \"green\", \"yellow\", \"white\", \"black\"]"
      ],
      "metadata": {
        "id": "27FkSGQ5rM1h"
      },
      "execution_count": null,
      "outputs": []
    },
    {
      "cell_type": "markdown",
      "source": [
        "исправьте ошибки в коде, чтобы посчитать сумму элементов в списке"
      ],
      "metadata": {
        "id": "w7e1yN8rr4sH"
      }
    },
    {
      "cell_type": "code",
      "source": [
        "sample = [\"11\", \"33\", \"50\"]\n",
        "print(sample.sum())\n",
        "\n",
        "#output - 94"
      ],
      "metadata": {
        "id": "vPZXMajLr4-S"
      },
      "execution_count": null,
      "outputs": []
    },
    {
      "cell_type": "markdown",
      "source": [
        "Выведите значения кол-ва монет из словаря"
      ],
      "metadata": {
        "id": "J2x6jTV0sNSh"
      }
    },
    {
      "cell_type": "code",
      "source": [
        "person = {\n",
        "    \"name\" : \"Andrey\",\n",
        "    \"money\" : 100,\n",
        "    \"city\" : \"Vladimir\"\n",
        "}\n",
        "\n",
        "#output - 100"
      ],
      "metadata": {
        "id": "fI2MrJ1vsNnZ"
      },
      "execution_count": null,
      "outputs": []
    },
    {
      "cell_type": "markdown",
      "source": [
        "# Самостоятельная работа:"
      ],
      "metadata": {
        "id": "f9RbFZkxtDZM"
      }
    },
    {
      "cell_type": "markdown",
      "source": [
        "Разработка программ с использованием массивов и словарей (создание минимального упорядоченного набора данных по избранной игре)\n",
        "Написать словарь, который будет содержать данные о 2 из игр (можем добавить вашу игру). В данные входит: кол-во игроков в матче, системные требования для игры (можно взять из внешних источников, можно придумать свои): Сколько весит игра, Сколько оперативной памяти потребляет, какие должны быть процессор и видеокарта.\n",
        "\n",
        "Пример вывода:\n",
        "dota_2\n",
        "Players : 10\n",
        "RAM : 4gb\n",
        "ROM : 20gb\n",
        "CPU : intel i5-8350u\n",
        "Graphics adapter : NVIDIA GeForce MX150\n",
        "\n",
        "cs_go\n",
        "Players : 10\n",
        "RAM : 8gb\n",
        "ROM : 50gb\n",
        "CPU : intel i5-3410\n",
        "Graphics adapter : NVIDIA GeForce GTX 1650"
      ],
      "metadata": {
        "id": "3YyHFkaXtHuH"
      }
    },
    {
      "cell_type": "code",
      "source": [
        "list = [\"tic-tac-toe\", \"dota_2\", \"chess\"]"
      ],
      "metadata": {
        "id": "dIWBJTZHtjT-"
      },
      "execution_count": null,
      "outputs": []
    }
  ]
}